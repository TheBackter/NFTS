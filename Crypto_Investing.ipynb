{
 "cells": [
  {
   "cell_type": "code",
   "execution_count": 134,
   "metadata": {},
   "outputs": [],
   "source": [
    "import pandas as pd\n",
    "import investpy as invt\n",
    "import matplotlib.pyplot as plt\n",
    "import numpy as ny\n",
    "from datetime import datetime"
   ]
  },
  {
   "cell_type": "code",
   "execution_count": 83,
   "metadata": {},
   "outputs": [],
   "source": [
    "df1 = typ.get_stock_historical_data(stock='AAPL',\n",
    "                                        country='United States',\n",
    "                                        from_date='01/01/2010',\n",
    "                                        to_date='01/01/2020')"
   ]
  },
  {
   "cell_type": "code",
   "execution_count": 26,
   "metadata": {},
   "outputs": [],
   "source": [
    "\n",
    "#Curency_Crypto\n",
    "dbbit= pd.DataFrame(invt.get_crypto_historical_data(crypto='Bitcoin', from_date='01/01/2018', to_date='31/03/2022', as_json=False,  interval='Monthly'))\n",
    "dbsol= pd.DataFrame(invt.get_crypto_historical_data(crypto='Solana', from_date='01/01/2018', to_date='31/03/2022', as_json=False,  interval='Monthly'))\n",
    "dbcar= pd.DataFrame(invt.get_crypto_historical_data(crypto='Cardano', from_date='01/01/2018', to_date='31/03/2022', as_json=False,  interval='Monthly'))\n",
    "dbeth= pd.DataFrame(invt.get_crypto_historical_data(crypto='Ethereum', from_date='01/01/2018', to_date='31/03/2022', as_json=False,  interval='Monthly'))\n",
    "#dbsnu= pd.DataFrame(invt.get_crypto_historical_data(crypto='Shiba Inu', from_date='01/01/2018', to_date='31/03/2022', as_json=False,  interval='Monthly')\n"
   ]
  },
  {
   "cell_type": "code",
   "execution_count": 95,
   "metadata": {},
   "outputs": [
    {
     "data": {
      "text/html": [
       "<div>\n",
       "<style scoped>\n",
       "    .dataframe tbody tr th:only-of-type {\n",
       "        vertical-align: middle;\n",
       "    }\n",
       "\n",
       "    .dataframe tbody tr th {\n",
       "        vertical-align: top;\n",
       "    }\n",
       "\n",
       "    .dataframe thead th {\n",
       "        text-align: right;\n",
       "    }\n",
       "</style>\n",
       "<table border=\"1\" class=\"dataframe\">\n",
       "  <thead>\n",
       "    <tr style=\"text-align: right;\">\n",
       "      <th></th>\n",
       "      <th>Open</th>\n",
       "      <th>High</th>\n",
       "      <th>Low</th>\n",
       "      <th>Close</th>\n",
       "      <th>Volume</th>\n",
       "    </tr>\n",
       "  </thead>\n",
       "  <tbody>\n",
       "    <tr>\n",
       "      <th>count</th>\n",
       "      <td>51.000000</td>\n",
       "      <td>51.000000</td>\n",
       "      <td>51.000000</td>\n",
       "      <td>51.000000</td>\n",
       "      <td>5.100000e+01</td>\n",
       "    </tr>\n",
       "    <tr>\n",
       "      <th>mean</th>\n",
       "      <td>1019.082549</td>\n",
       "      <td>1274.540392</td>\n",
       "      <td>819.110196</td>\n",
       "      <td>1069.028235</td>\n",
       "      <td>5.774074e+08</td>\n",
       "    </tr>\n",
       "    <tr>\n",
       "      <th>std</th>\n",
       "      <td>1241.982954</td>\n",
       "      <td>1487.996788</td>\n",
       "      <td>1011.355254</td>\n",
       "      <td>1281.081375</td>\n",
       "      <td>2.551037e+09</td>\n",
       "    </tr>\n",
       "    <tr>\n",
       "      <th>min</th>\n",
       "      <td>106.740000</td>\n",
       "      <td>152.330000</td>\n",
       "      <td>77.650000</td>\n",
       "      <td>106.710000</td>\n",
       "      <td>1.712321e+07</td>\n",
       "    </tr>\n",
       "    <tr>\n",
       "      <th>25%</th>\n",
       "      <td>190.485000</td>\n",
       "      <td>236.710000</td>\n",
       "      <td>153.795000</td>\n",
       "      <td>190.480000</td>\n",
       "      <td>3.904444e+07</td>\n",
       "    </tr>\n",
       "    <tr>\n",
       "      <th>50%</th>\n",
       "      <td>386.360000</td>\n",
       "      <td>444.860000</td>\n",
       "      <td>334.110000</td>\n",
       "      <td>386.420000</td>\n",
       "      <td>2.095190e+08</td>\n",
       "    </tr>\n",
       "    <tr>\n",
       "      <th>75%</th>\n",
       "      <td>1365.800000</td>\n",
       "      <td>1993.095000</td>\n",
       "      <td>1341.820000</td>\n",
       "      <td>1668.375000</td>\n",
       "      <td>3.603929e+08</td>\n",
       "    </tr>\n",
       "    <tr>\n",
       "      <th>max</th>\n",
       "      <td>4628.720000</td>\n",
       "      <td>4864.060000</td>\n",
       "      <td>3917.430000</td>\n",
       "      <td>4628.900000</td>\n",
       "      <td>1.838232e+10</td>\n",
       "    </tr>\n",
       "  </tbody>\n",
       "</table>\n",
       "</div>"
      ],
      "text/plain": [
       "              Open         High          Low        Close        Volume\n",
       "count    51.000000    51.000000    51.000000    51.000000  5.100000e+01\n",
       "mean   1019.082549  1274.540392   819.110196  1069.028235  5.774074e+08\n",
       "std    1241.982954  1487.996788  1011.355254  1281.081375  2.551037e+09\n",
       "min     106.740000   152.330000    77.650000   106.710000  1.712321e+07\n",
       "25%     190.485000   236.710000   153.795000   190.480000  3.904444e+07\n",
       "50%     386.360000   444.860000   334.110000   386.420000  2.095190e+08\n",
       "75%    1365.800000  1993.095000  1341.820000  1668.375000  3.603929e+08\n",
       "max    4628.720000  4864.060000  3917.430000  4628.900000  1.838232e+10"
      ]
     },
     "execution_count": 95,
     "metadata": {},
     "output_type": "execute_result"
    }
   ],
   "source": [
    "dbeth.describe()"
   ]
  },
  {
   "cell_type": "code",
   "execution_count": null,
   "metadata": {},
   "outputs": [],
   "source": [
    "invt.crypto.get_cryptos_list()\n",
    "invt.crypto.get_cryptos_dict()"
   ]
  },
  {
   "cell_type": "code",
   "execution_count": null,
   "metadata": {},
   "outputs": [],
   "source": [
    "#Lista del precio de apertura de cada moneda:\n",
    "\n",
    "#Currency_Cryptos = {\n",
    "    #'BTC': pd.Series(dbbit['Open']),\n",
    "    #'ETH': pd.Series(dbeth['Open']),\n",
    "    #'SOL': pd.Series(dbsol['Open']),\n",
    "    #'ADA (Cardano)': pd.Series(dbcar['Open'])\n",
    "    #}\n",
    "\n",
    "Currency_Cryptos['ETH']"
   ]
  },
  {
   "cell_type": "code",
   "execution_count": 116,
   "metadata": {},
   "outputs": [],
   "source": [
    "Currency_Cryptos = {\n",
    "    'a': ny.average(dbbit['Open']),\n",
    "    'b': ny.average(dbeth['Open']),\n",
    "    'c': ny.average(dbsol['Open']),\n",
    "    'd': ny.average(dbcar['Open'])\n",
    "}\n",
    "\n",
    "Currency_Cryptos['a']\n",
    "Symbol = ['BTC', 'ETH','SOL', 'ADA']\n",
    "\n",
    " "
   ]
  },
  {
   "cell_type": "code",
   "execution_count": null,
   "metadata": {},
   "outputs": [],
   "source": [
    "Crypto = pd.DataFrame(Currency_Cryptos, index=Symbol)\n",
    "\n",
    "Crypto"
   ]
  },
  {
   "cell_type": "code",
   "execution_count": 162,
   "metadata": {},
   "outputs": [],
   "source": [
    "#Genero esta vista para ver el precio promedio de apertura de algunas criptomonedas\n",
    "BTC = 'BITCOIN'\n",
    "ETH = 'Ethereum'\n",
    "SOL = 'SOLANA'\n",
    "ADA = 'CARDANO'\n",
    "Owner = 'Adrian Rodríguez'\n",
    "\n",
    "AcoCrypto = pd.Series([ny.average(dbbit['Open']), ny.average(dbeth['Open']), ny.average(dbsol['Open']),ny.average(dbcar['Open'])], index= [BTC, ETH, SOL, ADA])"
   ]
  },
  {
   "cell_type": "code",
   "execution_count": 178,
   "metadata": {},
   "outputs": [
    {
     "name": "stdout",
     "output_type": "stream",
     "text": [
      "Valor promedio de apertura de las crypto monedas en Investing al 2022-04-19\n",
      "+++++++++++++++++++++++++++++++++++++\n",
      "BITCOIN    | $19367.235294117643 USD\n",
      "Ethereum   | $1019.0825490196079 USD\n",
      "\n",
      "\n"
     ]
    }
   ],
   "source": [
    "print(f'Valor promedio de apertura de las crypto monedas en Investing al',datetime.today().strftime('%Y-%m-%d'))\n",
    "print('+++++++++++++++++++++++++++++++++++++')\n",
    "print(f'{BTC:10} | ${(AcoCrypto.loc[BTC])} USD')\n",
    "print(f'{ETH:10} | ${(AcoCrypto.loc[ETH])} USD')\n",
    "print('\\n')\n"
   ]
  },
  {
   "cell_type": "code",
   "execution_count": 87,
   "metadata": {},
   "outputs": [],
   "source": [
    "def Precio_Promedio_Apertura (Currency_Cryptos):\n",
    "    Promedio = ny.average(Currency_Cryptos)\n",
    "    return Promedio"
   ]
  },
  {
   "cell_type": "code",
   "execution_count": null,
   "metadata": {},
   "outputs": [],
   "source": [
    "Precio_Promedio_Apertura('BTC')"
   ]
  },
  {
   "cell_type": "code",
   "execution_count": 166,
   "metadata": {},
   "outputs": [
    {
     "data": {
      "text/plain": [
       "Text(0.5, 1.0, 'Crypto')"
      ]
     },
     "execution_count": 166,
     "metadata": {},
     "output_type": "execute_result"
    },
    {
     "data": {
      "image/png": "[encoded data removed]",
      "text/plain": [
       "<Figure size 720x504 with 1 Axes>"
      ]
     },
     "metadata": {
      "needs_background": "light"
     },
     "output_type": "display_data"
    }
   ],
   "source": [
    "\n",
    "plt.figure(figsize=(10,7))\n",
    "#dbeth['High'].plot(marker='o', linestyle='--', color= 'm', label = 'Etherium') \n",
    "dbsol['Volume'].plot(marker='v', linestyle='--', color= 'b', label = 'Bitcoin'),\n",
    "plt.xlabel('Years')\n",
    "plt.ylabel('Volume')\n",
    "plt.title('Crypto')"
   ]
  },
  {
   "cell_type": "code",
   "execution_count": 96,
   "metadata": {},
   "outputs": [],
   "source": [
    "gastos_mensuales = {\n",
    "    'A': 15000,\n",
    "    'B': 200000,\n",
    "    'C': 3250000,\n",
    "    'D': 120000,\n",
    "    'E': 135000,\n",
    "    'F': 55000,\n",
    "    'G': 100000,\n",
    "    'H': 25000\n",
    "}\n",
    "\n",
    "gastos_serie = pd.Series(gastos_mensuales)"
   ]
  },
  {
   "cell_type": "code",
   "execution_count": 97,
   "metadata": {},
   "outputs": [
    {
     "data": {
      "text/plain": [
       "A      15000\n",
       "B     200000\n",
       "C    3250000\n",
       "D     120000\n",
       "E     135000\n",
       "F      55000\n",
       "G     100000\n",
       "H      25000\n",
       "dtype: int64"
      ]
     },
     "execution_count": 97,
     "metadata": {},
     "output_type": "execute_result"
    }
   ],
   "source": [
    "gastos_serie"
   ]
  }
 ],
 "metadata": {
  "interpreter": {
   "hash": "3715d2037ac3e9ebd3e2f069a3379c8886acb349fa0bd4b1bac283997c777eb4"
  },
  "kernelspec": {
   "display_name": "Python 3.10.3 64-bit (windows store)",
   "language": "python",
   "name": "python3"
  },
  "language_info": {
   "codemirror_mode": {
    "name": "ipython",
    "version": 3
   },
   "file_extension": ".py",
   "mimetype": "text/x-python",
   "name": "python",
   "nbconvert_exporter": "python",
   "pygments_lexer": "ipython3",
   "version": "3.10.4"
  },
  "orig_nbformat": 4
 },
 "nbformat": 4,
 "nbformat_minor": 2
}
